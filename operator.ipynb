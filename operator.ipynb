{
 "cells": [
  {
   "cell_type": "markdown",
   "metadata": {},
   "source": [
    "## ARITHMETIC OPERATORS\n"
   ]
  },
  {
   "cell_type": "code",
   "execution_count": 4,
   "metadata": {},
   "outputs": [
    {
     "name": "stdout",
     "output_type": "stream",
     "text": [
      "Addition 9\n",
      "Subtraction -7\n",
      "Multiplication 8\n",
      "Division 0.125\n",
      "Exponentiation 1\n",
      "Floor division 0\n"
     ]
    }
   ],
   "source": [
    "# +\tAddition\t                    x+ y\t\n",
    "# -\tSubtraction\t         \t        x - y\t\n",
    "# *\tMultiplication\t         \t        x * y\t\n",
    "# /\tDivision\t                    x / y\t\n",
    "# %\tModulus\t                    x % y\t\n",
    "# **\tExponentiation\t        x ** y\n",
    "# //\tFloor division\t                    x // y\n",
    "a = 1\n",
    "b = 8\n",
    "print(\"Addition\",a+b)\n",
    "print(\"Subtraction\",a-b)\n",
    "print(\"Multiplication\",a*b)\n",
    "print(\"Division\",a/b)\n",
    "print(\"Exponentiation\",a**b)\n",
    "print(\"Floor division\",a//b)\n",
    "\n",
    "\n"
   ]
  },
  {
   "cell_type": "markdown",
   "metadata": {},
   "source": [
    "## COMPARISON OPERATORS\n"
   ]
  },
  {
   "cell_type": "code",
   "execution_count": null,
   "metadata": {},
   "outputs": [],
   "source": [
    "# ==\t  Equal\t                                    x == y\t\n",
    "# !=\t  Not equal\t                        x != y\t\n",
    "# >\t  Greater than\t                        x > y\t\n",
    "# <\t  Less than\t                        x < y\t\n",
    "# >=\t  Greater than or equal to\tx >= y\t\n",
    "# <=\t  Less than or equal to\t            x <= y\n",
    "\n",
    "\n"
   ]
  },
  {
   "cell_type": "markdown",
   "metadata": {},
   "source": [
    "## Python Assignment Operators"
   ]
  },
  {
   "cell_type": "code",
   "execution_count": 5,
   "metadata": {},
   "outputs": [
    {
     "name": "stdout",
     "output_type": "stream",
     "text": [
      "5\n"
     ]
    }
   ],
   "source": [
    "# =\t              x = 5\t              x = 5\t\n",
    "# +=                    x += 3\t              x = x + 3\t\n",
    "# -=\t              x -= 3                   x = x - 3\t\n",
    "# *=\t              x *= 3\t              x = x * 3\t\n",
    "# /=\t              x /= 3\t              x = x / 3\t\n",
    "# %=\t              x %= 3\t              x = x % 3\t\n",
    "# //= \t              x //= 3\t              x = x // 3\t\n",
    "# **=\t              x **= 2\t              x = x ** 2\n",
    "x = 5 \n",
    "print(x)\n"
   ]
  },
  {
   "cell_type": "code",
   "execution_count": 6,
   "metadata": {},
   "outputs": [],
   "source": [
    "x+=10"
   ]
  },
  {
   "cell_type": "code",
   "execution_count": 7,
   "metadata": {},
   "outputs": [
    {
     "data": {
      "text/plain": [
       "15"
      ]
     },
     "execution_count": 7,
     "metadata": {},
     "output_type": "execute_result"
    }
   ],
   "source": [
    "x"
   ]
  },
  {
   "cell_type": "code",
   "execution_count": 8,
   "metadata": {},
   "outputs": [
    {
     "data": {
      "text/plain": [
       "5"
      ]
     },
     "execution_count": 8,
     "metadata": {},
     "output_type": "execute_result"
    }
   ],
   "source": [
    "x-=10\n",
    "x\n"
   ]
  },
  {
   "cell_type": "code",
   "execution_count": 9,
   "metadata": {},
   "outputs": [
    {
     "data": {
      "text/plain": [
       "50"
      ]
     },
     "execution_count": 9,
     "metadata": {},
     "output_type": "execute_result"
    }
   ],
   "source": [
    "x*=10  #>>>>>>>>> x*10\n",
    "x"
   ]
  },
  {
   "cell_type": "code",
   "execution_count": null,
   "metadata": {},
   "outputs": [],
   "source": [
    "x/=10\n",
    "x"
   ]
  },
  {
   "cell_type": "code",
   "execution_count": 10,
   "metadata": {},
   "outputs": [
    {
     "data": {
      "text/plain": [
       "0"
      ]
     },
     "execution_count": 10,
     "metadata": {},
     "output_type": "execute_result"
    }
   ],
   "source": [
    "# shivi gupta 0.5\n",
    "# raghav = 5 \n",
    "x%=2\n",
    "x"
   ]
  },
  {
   "cell_type": "code",
   "execution_count": 11,
   "metadata": {},
   "outputs": [
    {
     "data": {
      "text/plain": [
       "0"
      ]
     },
     "execution_count": 11,
     "metadata": {},
     "output_type": "execute_result"
    }
   ],
   "source": [
    "x**=10\n",
    "x\n"
   ]
  },
  {
   "cell_type": "code",
   "execution_count": null,
   "metadata": {},
   "outputs": [],
   "source": []
  }
 ],
 "metadata": {
  "kernelspec": {
   "display_name": "Python 3",
   "language": "python",
   "name": "python3"
  },
  "language_info": {
   "codemirror_mode": {
    "name": "ipython",
    "version": 3
   },
   "file_extension": ".py",
   "mimetype": "text/x-python",
   "name": "python",
   "nbconvert_exporter": "python",
   "pygments_lexer": "ipython3",
   "version": "3.11.5"
  }
 },
 "nbformat": 4,
 "nbformat_minor": 2
}
